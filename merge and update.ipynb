{
 "cells": [
  {
   "cell_type": "code",
   "execution_count": 0,
   "metadata": {
    "application/vnd.databricks.v1+cell": {
     "cellMetadata": {
      "byteLimit": 2048000,
      "implicitDf": true,
      "rowLimit": 10000
     },
     "inputWidgets": {},
     "nuid": "e3b30cad-78e0-4555-97b7-d400020f96b4",
     "showTitle": false,
     "tableResultSettingsMap": {},
     "title": ""
    }
   },
   "outputs": [],
   "source": [
    "%sql\n",
    "CREATE TABLE IF NOT EXISTS sales_data.sales_table (\n",
    "  date DATE,\n",
    "  store_id STRING,\n",
    "  product_id STRING,\n",
    "  promotion INT,\n",
    "  holiday INT,\n",
    "  sales_amount DOUBLE\n",
    ")\n",
    "USING DELTA;\n",
    "\n",
    "select *from sales_data.sales_table()"
   ]
  },
  {
   "cell_type": "code",
   "execution_count": 0,
   "metadata": {
    "application/vnd.databricks.v1+cell": {
     "cellMetadata": {
      "byteLimit": 2048000,
      "implicitDf": true,
      "rowLimit": 10000
     },
     "inputWidgets": {},
     "nuid": "eb167578-7b98-4185-a801-12a62255182b",
     "showTitle": false,
     "tableResultSettingsMap": {},
     "title": ""
    }
   },
   "outputs": [],
   "source": [
    "%sql\n",
    "CREATE TABLE IF NOT EXISTS sales_data.sales_updates (\n",
    "  date DATE,\n",
    "  store_id STRING,\n",
    "  product_id STRING,\n",
    "  promotion INT,\n",
    "  holiday INT,\n",
    "  sales_amount DOUBLE\n",
    ")\n",
    "USING DELTA;\n",
    "\n",
    "select *from sales_data.sales_table\n",
    "\n",
    "\n",
    "-- CREATE TABLE sales_data.sales_updates\n",
    "-- USING DELTA\n",
    "-- AS SELECT * FROM workspace.default.sales_updates\n"
   ]
  },
  {
   "cell_type": "code",
   "execution_count": 0,
   "metadata": {
    "application/vnd.databricks.v1+cell": {
     "cellMetadata": {
      "byteLimit": 2048000,
      "implicitDf": true,
      "rowLimit": 10000
     },
     "inputWidgets": {},
     "nuid": "f1bd2ab9-e6dc-42b0-8a4b-a2fccfd4f0f0",
     "showTitle": false,
     "tableResultSettingsMap": {},
     "title": ""
    }
   },
   "outputs": [],
   "source": [
    "# # %sql\n",
    "# SELECT *FROM sales_data.sales_table ORDER BY date, store_id, product_id;"
   ]
  },
  {
   "cell_type": "markdown",
   "metadata": {
    "application/vnd.databricks.v1+cell": {
     "cellMetadata": {
      "byteLimit": 2048000,
      "rowLimit": 10000
     },
     "inputWidgets": {},
     "nuid": "1daf18d4-2666-4cf5-80ba-4fb6667c523c",
     "showTitle": false,
     "tableResultSettingsMap": {},
     "title": ""
    }
   },
   "source": [
    "## **Merge data**"
   ]
  },
  {
   "cell_type": "code",
   "execution_count": 0,
   "metadata": {
    "application/vnd.databricks.v1+cell": {
     "cellMetadata": {
      "byteLimit": 2048000,
      "implicitDf": true,
      "rowLimit": 10000
     },
     "inputWidgets": {},
     "nuid": "9cd5e6ca-82dd-4366-b46f-c09e0206aa5f",
     "showTitle": false,
     "tableResultSettingsMap": {},
     "title": ""
    }
   },
   "outputs": [],
   "source": [
    "%sql\n",
    "CREATE TABLE IF NOT EXISTS sales_data.merged_sales_data AS\n",
    "SELECT DISTINCT\n",
    "    main.date,\n",
    "    main.store_id,\n",
    "    main.product_id,\n",
    "    main.promotion,\n",
    "    main.holiday,\n",
    "    main.sales_amount AS original_sales,\n",
    "    upd.sales_amount AS updated_sales\n",
    "FROM\n",
    "    sales_data.sales_table AS main\n",
    "JOIN\n",
    "    sales_data.sales_updates AS upd\n",
    "ON\n",
    "    main.date = upd.date\n",
    "    AND main.store_id = upd.store_id\n",
    "    AND main.product_id = upd.product_id;"
   ]
  },
  {
   "cell_type": "code",
   "execution_count": 0,
   "metadata": {
    "application/vnd.databricks.v1+cell": {
     "cellMetadata": {
      "byteLimit": 2048000,
      "implicitDf": true,
      "rowLimit": 10000
     },
     "inputWidgets": {},
     "nuid": "1d337e27-8dc7-4c6a-bd2b-e93e03fd533a",
     "showTitle": false,
     "tableResultSettingsMap": {},
     "title": ""
    }
   },
   "outputs": [],
   "source": [
    "%sql\n",
    "INSERT INTO sales_data.sales_table\n",
    "SELECT * FROM sales_data.sales_updates;"
   ]
  },
  {
   "cell_type": "code",
   "execution_count": 0,
   "metadata": {
    "application/vnd.databricks.v1+cell": {
     "cellMetadata": {
      "byteLimit": 2048000,
      "implicitDf": true,
      "rowLimit": 10000
     },
     "inputWidgets": {},
     "nuid": "12084060-ea9f-4cfc-8895-483b467fab69",
     "showTitle": false,
     "tableResultSettingsMap": {},
     "title": ""
    }
   },
   "outputs": [],
   "source": [
    "%sql\n",
    "INSERT INTO sales_data.sales_table (\n",
    "  date, store_id, product_id, promotion, holiday, sales_amount\n",
    ")\n",
    "VALUES\n",
    "  ('2025-08-01', 101, 501, true, false, 1200.50),\n",
    "  ('2025-08-01', 102, 502, false, false, 950.00);\n",
    "\n",
    "\n",
    "\n",
    "INSERT INTO sales_data.sales_updates (\n",
    "  date, store_id, product_id, promotion, holiday, sales_amount\n",
    ")\n",
    "VALUES\n",
    "  ('2025-08-01', 101, 501, true, false, 1200.50),\n",
    "  ('2025-08-01', 102, 502, false, false, 950.00);\n",
    "\n",
    "\n",
    "\n",
    "INSERT INTO sales_data.merged_sales_data (\n",
    "  date, store_id, product_id, promotion, holiday, original_sales, updated_sales\n",
    ")\n",
    "VALUES\n",
    "  ('2025-08-01', 101, 501, true, false, 12000.50, 12000.50),\n",
    "  ('2025-08-01', 102, 502, false, false, 9500.00, 9500.00);"
   ]
  },
  {
   "cell_type": "code",
   "execution_count": 0,
   "metadata": {
    "application/vnd.databricks.v1+cell": {
     "cellMetadata": {
      "byteLimit": 2048000,
      "implicitDf": true,
      "rowLimit": 10000
     },
     "inputWidgets": {},
     "nuid": "e9809702-5eb1-4503-a543-4bf4be2196b6",
     "showTitle": false,
     "tableResultSettingsMap": {},
     "title": ""
    }
   },
   "outputs": [],
   "source": [
    " %sql\n",
    "-- SELECT * FROM sales_data.sales_table\n",
    "-- ORDER BY date, store_id, product_id;\n",
    "\n",
    "\n",
    "-- SELECT * FROM sales_data.sales_updates\n",
    "-- ORDER BY date, store_id, product_id;\n",
    "\n",
    "\n",
    "SELECT * FROM  sales_data.merged_sales_data\n",
    "ORDER BY date, store_id, product_id;"
   ]
  }
 ],
 "metadata": {
  "application/vnd.databricks.v1+notebook": {
   "computePreferences": {
    "hardware": {
     "accelerator": null,
     "gpuPoolId": null,
     "memory": null
    }
   },
   "dashboards": [],
   "environmentMetadata": {
    "base_environment": "",
    "environment_version": "2"
   },
   "inputWidgetPreferences": null,
   "language": "python",
   "notebookMetadata": {
    "mostRecentlyExecutedCommandWithImplicitDF": {
     "commandId": 4590602692600089,
     "dataframes": [
      "_sqldf"
     ]
    },
    "pythonIndentUnit": 4
   },
   "notebookName": "merge and update",
   "widgets": {}
  },
  "language_info": {
   "name": "python"
  }
 },
 "nbformat": 4,
 "nbformat_minor": 0
}
